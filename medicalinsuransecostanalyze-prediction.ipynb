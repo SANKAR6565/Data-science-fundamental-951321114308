{
 "cells": [
  {
   "cell_type": "code",
   "execution_count": 1,
   "id": "fb4222ea",
   "metadata": {
    "_cell_guid": "b1076dfc-b9ad-4769-8c92-a6c4dae69d19",
    "_uuid": "8f2839f25d086af736a60e9eeb907d3b93b6e0e5",
    "execution": {
     "iopub.execute_input": "2024-04-13T10:31:36.025908Z",
     "iopub.status.busy": "2024-04-13T10:31:36.025465Z",
     "iopub.status.idle": "2024-04-13T10:31:39.590614Z",
     "shell.execute_reply": "2024-04-13T10:31:39.589488Z"
    },
    "papermill": {
     "duration": 3.577314,
     "end_time": "2024-04-13T10:31:39.593551",
     "exception": false,
     "start_time": "2024-04-13T10:31:36.016237",
     "status": "completed"
    },
    "tags": []
   },
   "outputs": [],
   "source": [
    "import numpy as np # linear algebra\n",
    "import pandas as pd # data processing, CSV file I/O (e.g. pd.read_csv)\n",
    "import os\n",
    "for dirname, _, filenames in os.walk('/kaggle/input'):\n",
    "    for filename in filenames:\n",
    "        print(os.path.join(dirname, filename))\n",
    "import matplotlib.pyplot as plt\n",
    "import seaborn as sns\n",
    "from sklearn.model_selection import train_test_split\n",
    "from sklearn.neighbors import KNeighborsRegressor as KNR\n",
    "from sklearn.ensemble import RandomForestRegressor as RFR\n",
    "from sklearn.linear_model import LinearRegression as LR\n",
    "from sklearn.preprocessing import OrdinalEncoder, StandardScaler\n",
    "from sklearn.compose import make_column_transformer\n",
    "from sklearn.metrics import r2_score"
   ]
  },
  {
   "cell_type": "code",
   "execution_count": 2,
   "id": "3d576d6e",
   "metadata": {
    "execution": {
     "iopub.execute_input": "2024-04-13T10:31:39.610118Z",
     "iopub.status.busy": "2024-04-13T10:31:39.609331Z",
     "iopub.status.idle": "2024-04-13T10:31:39.640054Z",
     "shell.execute_reply": "2024-04-13T10:31:39.638360Z"
    },
    "papermill": {
     "duration": 0.042443,
     "end_time": "2024-04-13T10:31:39.643216",
     "exception": false,
     "start_time": "2024-04-13T10:31:39.600773",
     "status": "completed"
    },
    "tags": []
   },
   "outputs": [],
   "source": [
    "# Load data\n",
    "insurance_data = pd.read_csv('medical_insurance.csv')"
   ]
  },
  {
   "cell_type": "markdown",
   "id": "403305a3",
   "metadata": {
    "papermill": {
     "duration": 0.006677,
     "end_time": "2024-04-13T10:31:39.656956",
     "exception": false,
     "start_time": "2024-04-13T10:31:39.650279",
     "status": "completed"
    },
    "tags": []
   },
   "source": [
    "# Explore the data"
   ]
  },
  {
   "cell_type": "code",
   "execution_count": 3,
   "id": "316801cd",
   "metadata": {
    "execution": {
     "iopub.execute_input": "2024-04-13T10:31:39.672638Z",
     "iopub.status.busy": "2024-04-13T10:31:39.672190Z",
     "iopub.status.idle": "2024-04-13T10:31:39.698532Z",
     "shell.execute_reply": "2024-04-13T10:31:39.697377Z"
    },
    "papermill": {
     "duration": 0.037559,
     "end_time": "2024-04-13T10:31:39.701352",
     "exception": false,
     "start_time": "2024-04-13T10:31:39.663793",
     "status": "completed"
    },
    "tags": []
   },
   "outputs": [
    {
     "data": {
      "text/html": [
       "<div>\n",
       "<style scoped>\n",
       "    .dataframe tbody tr th:only-of-type {\n",
       "        vertical-align: middle;\n",
       "    }\n",
       "\n",
       "    .dataframe tbody tr th {\n",
       "        vertical-align: top;\n",
       "    }\n",
       "\n",
       "    .dataframe thead th {\n",
       "        text-align: right;\n",
       "    }\n",
       "</style>\n",
       "<table border=\"1\" class=\"dataframe\">\n",
       "  <thead>\n",
       "    <tr style=\"text-align: right;\">\n",
       "      <th></th>\n",
       "      <th>age</th>\n",
       "      <th>sex</th>\n",
       "      <th>bmi</th>\n",
       "      <th>children</th>\n",
       "      <th>smoker</th>\n",
       "      <th>region</th>\n",
       "      <th>charges</th>\n",
       "    </tr>\n",
       "  </thead>\n",
       "  <tbody>\n",
       "    <tr>\n",
       "      <th>0</th>\n",
       "      <td>19</td>\n",
       "      <td>female</td>\n",
       "      <td>27.900</td>\n",
       "      <td>0</td>\n",
       "      <td>yes</td>\n",
       "      <td>southwest</td>\n",
       "      <td>16884.92400</td>\n",
       "    </tr>\n",
       "    <tr>\n",
       "      <th>1</th>\n",
       "      <td>18</td>\n",
       "      <td>male</td>\n",
       "      <td>33.770</td>\n",
       "      <td>1</td>\n",
       "      <td>no</td>\n",
       "      <td>southeast</td>\n",
       "      <td>1725.55230</td>\n",
       "    </tr>\n",
       "    <tr>\n",
       "      <th>2</th>\n",
       "      <td>28</td>\n",
       "      <td>male</td>\n",
       "      <td>33.000</td>\n",
       "      <td>3</td>\n",
       "      <td>no</td>\n",
       "      <td>southeast</td>\n",
       "      <td>4449.46200</td>\n",
       "    </tr>\n",
       "    <tr>\n",
       "      <th>3</th>\n",
       "      <td>33</td>\n",
       "      <td>male</td>\n",
       "      <td>22.705</td>\n",
       "      <td>0</td>\n",
       "      <td>no</td>\n",
       "      <td>northwest</td>\n",
       "      <td>21984.47061</td>\n",
       "    </tr>\n",
       "    <tr>\n",
       "      <th>4</th>\n",
       "      <td>32</td>\n",
       "      <td>male</td>\n",
       "      <td>28.880</td>\n",
       "      <td>0</td>\n",
       "      <td>no</td>\n",
       "      <td>northwest</td>\n",
       "      <td>3866.85520</td>\n",
       "    </tr>\n",
       "  </tbody>\n",
       "</table>\n",
       "</div>"
      ],
      "text/plain": [
       "   age     sex     bmi  children smoker     region      charges\n",
       "0   19  female  27.900         0    yes  southwest  16884.92400\n",
       "1   18    male  33.770         1     no  southeast   1725.55230\n",
       "2   28    male  33.000         3     no  southeast   4449.46200\n",
       "3   33    male  22.705         0     no  northwest  21984.47061\n",
       "4   32    male  28.880         0     no  northwest   3866.85520"
      ]
     },
     "execution_count": 3,
     "metadata": {},
     "output_type": "execute_result"
    }
   ],
   "source": [
    "insurance_data.head()"
   ]
  },
  {
   "cell_type": "markdown",
   "id": "144b5bc3",
   "metadata": {
    "papermill": {
     "duration": 0.007102,
     "end_time": "2024-04-13T10:31:39.715830",
     "exception": false,
     "start_time": "2024-04-13T10:31:39.708728",
     "status": "completed"
    },
    "tags": []
   },
   "source": []
  },
  {
   "cell_type": "code",
   "execution_count": 4,
   "id": "1e4e9c05",
   "metadata": {
    "execution": {
     "iopub.execute_input": "2024-04-13T10:31:39.732876Z",
     "iopub.status.busy": "2024-04-13T10:31:39.732446Z",
     "iopub.status.idle": "2024-04-13T10:31:39.747865Z",
     "shell.execute_reply": "2024-04-13T10:31:39.746665Z"
    },
    "papermill": {
     "duration": 0.026926,
     "end_time": "2024-04-13T10:31:39.750524",
     "exception": false,
     "start_time": "2024-04-13T10:31:39.723598",
     "status": "completed"
    },
    "tags": []
   },
   "outputs": [
    {
     "data": {
      "text/html": [
       "<div>\n",
       "<style scoped>\n",
       "    .dataframe tbody tr th:only-of-type {\n",
       "        vertical-align: middle;\n",
       "    }\n",
       "\n",
       "    .dataframe tbody tr th {\n",
       "        vertical-align: top;\n",
       "    }\n",
       "\n",
       "    .dataframe thead th {\n",
       "        text-align: right;\n",
       "    }\n",
       "</style>\n",
       "<table border=\"1\" class=\"dataframe\">\n",
       "  <thead>\n",
       "    <tr style=\"text-align: right;\">\n",
       "      <th></th>\n",
       "      <th>age</th>\n",
       "      <th>sex</th>\n",
       "      <th>bmi</th>\n",
       "      <th>children</th>\n",
       "      <th>smoker</th>\n",
       "      <th>region</th>\n",
       "      <th>charges</th>\n",
       "    </tr>\n",
       "  </thead>\n",
       "  <tbody>\n",
       "    <tr>\n",
       "      <th>2767</th>\n",
       "      <td>47</td>\n",
       "      <td>female</td>\n",
       "      <td>45.320</td>\n",
       "      <td>1</td>\n",
       "      <td>no</td>\n",
       "      <td>southeast</td>\n",
       "      <td>8569.86180</td>\n",
       "    </tr>\n",
       "    <tr>\n",
       "      <th>2768</th>\n",
       "      <td>21</td>\n",
       "      <td>female</td>\n",
       "      <td>34.600</td>\n",
       "      <td>0</td>\n",
       "      <td>no</td>\n",
       "      <td>southwest</td>\n",
       "      <td>2020.17700</td>\n",
       "    </tr>\n",
       "    <tr>\n",
       "      <th>2769</th>\n",
       "      <td>19</td>\n",
       "      <td>male</td>\n",
       "      <td>26.030</td>\n",
       "      <td>1</td>\n",
       "      <td>yes</td>\n",
       "      <td>northwest</td>\n",
       "      <td>16450.89470</td>\n",
       "    </tr>\n",
       "    <tr>\n",
       "      <th>2770</th>\n",
       "      <td>23</td>\n",
       "      <td>male</td>\n",
       "      <td>18.715</td>\n",
       "      <td>0</td>\n",
       "      <td>no</td>\n",
       "      <td>northwest</td>\n",
       "      <td>21595.38229</td>\n",
       "    </tr>\n",
       "    <tr>\n",
       "      <th>2771</th>\n",
       "      <td>54</td>\n",
       "      <td>male</td>\n",
       "      <td>31.600</td>\n",
       "      <td>0</td>\n",
       "      <td>no</td>\n",
       "      <td>southwest</td>\n",
       "      <td>9850.43200</td>\n",
       "    </tr>\n",
       "  </tbody>\n",
       "</table>\n",
       "</div>"
      ],
      "text/plain": [
       "      age     sex     bmi  children smoker     region      charges\n",
       "2767   47  female  45.320         1     no  southeast   8569.86180\n",
       "2768   21  female  34.600         0     no  southwest   2020.17700\n",
       "2769   19    male  26.030         1    yes  northwest  16450.89470\n",
       "2770   23    male  18.715         0     no  northwest  21595.38229\n",
       "2771   54    male  31.600         0     no  southwest   9850.43200"
      ]
     },
     "execution_count": 4,
     "metadata": {},
     "output_type": "execute_result"
    }
   ],
   "source": [
    "insurance_data.tail()"
   ]
  },
  {
   "cell_type": "code",
   "execution_count": 5,
   "id": "99f49886",
   "metadata": {
    "execution": {
     "iopub.execute_input": "2024-04-13T10:31:39.767447Z",
     "iopub.status.busy": "2024-04-13T10:31:39.767024Z",
     "iopub.status.idle": "2024-04-13T10:31:39.796967Z",
     "shell.execute_reply": "2024-04-13T10:31:39.795665Z"
    },
    "papermill": {
     "duration": 0.041553,
     "end_time": "2024-04-13T10:31:39.799643",
     "exception": false,
     "start_time": "2024-04-13T10:31:39.758090",
     "status": "completed"
    },
    "tags": []
   },
   "outputs": [
    {
     "name": "stdout",
     "output_type": "stream",
     "text": [
      "<class 'pandas.core.frame.DataFrame'>\n",
      "RangeIndex: 2772 entries, 0 to 2771\n",
      "Data columns (total 7 columns):\n",
      " #   Column    Non-Null Count  Dtype  \n",
      "---  ------    --------------  -----  \n",
      " 0   age       2772 non-null   int64  \n",
      " 1   sex       2772 non-null   object \n",
      " 2   bmi       2772 non-null   float64\n",
      " 3   children  2772 non-null   int64  \n",
      " 4   smoker    2772 non-null   object \n",
      " 5   region    2772 non-null   object \n",
      " 6   charges   2772 non-null   float64\n",
      "dtypes: float64(2), int64(2), object(3)\n",
      "memory usage: 151.7+ KB\n"
     ]
    }
   ],
   "source": [
    "insurance_data.info()"
   ]
  },
  {
   "cell_type": "code",
   "execution_count": 6,
   "id": "ef96d4a2",
   "metadata": {
    "execution": {
     "iopub.execute_input": "2024-04-13T10:31:39.817040Z",
     "iopub.status.busy": "2024-04-13T10:31:39.816557Z",
     "iopub.status.idle": "2024-04-13T10:31:39.844281Z",
     "shell.execute_reply": "2024-04-13T10:31:39.843190Z"
    },
    "papermill": {
     "duration": 0.039413,
     "end_time": "2024-04-13T10:31:39.846849",
     "exception": false,
     "start_time": "2024-04-13T10:31:39.807436",
     "status": "completed"
    },
    "tags": []
   },
   "outputs": [
    {
     "data": {
      "text/html": [
       "<div>\n",
       "<style scoped>\n",
       "    .dataframe tbody tr th:only-of-type {\n",
       "        vertical-align: middle;\n",
       "    }\n",
       "\n",
       "    .dataframe tbody tr th {\n",
       "        vertical-align: top;\n",
       "    }\n",
       "\n",
       "    .dataframe thead th {\n",
       "        text-align: right;\n",
       "    }\n",
       "</style>\n",
       "<table border=\"1\" class=\"dataframe\">\n",
       "  <thead>\n",
       "    <tr style=\"text-align: right;\">\n",
       "      <th></th>\n",
       "      <th>age</th>\n",
       "      <th>bmi</th>\n",
       "      <th>children</th>\n",
       "      <th>charges</th>\n",
       "    </tr>\n",
       "  </thead>\n",
       "  <tbody>\n",
       "    <tr>\n",
       "      <th>count</th>\n",
       "      <td>2772.000000</td>\n",
       "      <td>2772.000000</td>\n",
       "      <td>2772.000000</td>\n",
       "      <td>2772.000000</td>\n",
       "    </tr>\n",
       "    <tr>\n",
       "      <th>mean</th>\n",
       "      <td>39.109668</td>\n",
       "      <td>30.701349</td>\n",
       "      <td>1.101732</td>\n",
       "      <td>13261.369959</td>\n",
       "    </tr>\n",
       "    <tr>\n",
       "      <th>std</th>\n",
       "      <td>14.081459</td>\n",
       "      <td>6.129449</td>\n",
       "      <td>1.214806</td>\n",
       "      <td>12151.768945</td>\n",
       "    </tr>\n",
       "    <tr>\n",
       "      <th>min</th>\n",
       "      <td>18.000000</td>\n",
       "      <td>15.960000</td>\n",
       "      <td>0.000000</td>\n",
       "      <td>1121.873900</td>\n",
       "    </tr>\n",
       "    <tr>\n",
       "      <th>25%</th>\n",
       "      <td>26.000000</td>\n",
       "      <td>26.220000</td>\n",
       "      <td>0.000000</td>\n",
       "      <td>4687.797000</td>\n",
       "    </tr>\n",
       "    <tr>\n",
       "      <th>50%</th>\n",
       "      <td>39.000000</td>\n",
       "      <td>30.447500</td>\n",
       "      <td>1.000000</td>\n",
       "      <td>9333.014350</td>\n",
       "    </tr>\n",
       "    <tr>\n",
       "      <th>75%</th>\n",
       "      <td>51.000000</td>\n",
       "      <td>34.770000</td>\n",
       "      <td>2.000000</td>\n",
       "      <td>16577.779500</td>\n",
       "    </tr>\n",
       "    <tr>\n",
       "      <th>max</th>\n",
       "      <td>64.000000</td>\n",
       "      <td>53.130000</td>\n",
       "      <td>5.000000</td>\n",
       "      <td>63770.428010</td>\n",
       "    </tr>\n",
       "  </tbody>\n",
       "</table>\n",
       "</div>"
      ],
      "text/plain": [
       "               age          bmi     children       charges\n",
       "count  2772.000000  2772.000000  2772.000000   2772.000000\n",
       "mean     39.109668    30.701349     1.101732  13261.369959\n",
       "std      14.081459     6.129449     1.214806  12151.768945\n",
       "min      18.000000    15.960000     0.000000   1121.873900\n",
       "25%      26.000000    26.220000     0.000000   4687.797000\n",
       "50%      39.000000    30.447500     1.000000   9333.014350\n",
       "75%      51.000000    34.770000     2.000000  16577.779500\n",
       "max      64.000000    53.130000     5.000000  63770.428010"
      ]
     },
     "execution_count": 6,
     "metadata": {},
     "output_type": "execute_result"
    }
   ],
   "source": [
    "insurance_data.describe()"
   ]
  },
  {
   "cell_type": "markdown",
   "id": "1a000d24",
   "metadata": {
    "papermill": {
     "duration": 0.007589,
     "end_time": "2024-04-13T10:31:39.862680",
     "exception": false,
     "start_time": "2024-04-13T10:31:39.855091",
     "status": "completed"
    },
    "tags": []
   },
   "source": [
    "# Analyze the data"
   ]
  },
  {
   "cell_type": "code",
   "execution_count": 7,
   "id": "a7f2ef79",
   "metadata": {
    "execution": {
     "iopub.execute_input": "2024-04-13T10:31:39.881557Z",
     "iopub.status.busy": "2024-04-13T10:31:39.881119Z",
     "iopub.status.idle": "2024-04-13T10:31:40.288369Z",
     "shell.execute_reply": "2024-04-13T10:31:40.287084Z"
    },
    "papermill": {
     "duration": 0.420339,
     "end_time": "2024-04-13T10:31:40.290901",
     "exception": false,
     "start_time": "2024-04-13T10:31:39.870562",
     "status": "completed"
    },
    "tags": []
   },
   "outputs": [
    {
     "data": {
      "text/plain": [
       "<Axes: title={'center': 'Correlation between smoking and insurance cost'}, xlabel='smoker', ylabel='charges'>"
      ]
     },
     "execution_count": 7,
     "metadata": {},
     "output_type": "execute_result"
    },
    {
     "data": {
      "image/png": "[encoded data removed]",
      "text/plain": [
       "<Figure size 640x480 with 1 Axes>"
      ]
     },
     "metadata": {},
     "output_type": "display_data"
    }
   ],
   "source": [
    "plt.figure()\n",
    "plt.title('Correlation between smoking and insurance cost')\n",
    "sns.barplot(data=insurance_data, x='smoker', y='charges')"
   ]
  },
  {
   "cell_type": "code",
   "execution_count": 8,
   "id": "00986115",
   "metadata": {
    "execution": {
     "iopub.execute_input": "2024-04-13T10:31:40.309859Z",
     "iopub.status.busy": "2024-04-13T10:31:40.309423Z",
     "iopub.status.idle": "2024-04-13T10:31:40.646727Z",
     "shell.execute_reply": "2024-04-13T10:31:40.645448Z"
    },
    "papermill": {
     "duration": 0.349857,
     "end_time": "2024-04-13T10:31:40.649273",
     "exception": false,
     "start_time": "2024-04-13T10:31:40.299416",
     "status": "completed"
    },
    "tags": []
   },
   "outputs": [
    {
     "data": {
      "text/plain": [
       "<Axes: xlabel='sex', ylabel='charges'>"
      ]
     },
     "execution_count": 8,
     "metadata": {},
     "output_type": "execute_result"
    },
    {
     "data": {
      "image/png": "[encoded data removed]",
      "text/plain": [
       "<Figure size 640x480 with 1 Axes>"
      ]
     },
     "metadata": {},
     "output_type": "display_data"
    }
   ],
   "source": [
    "plt.figure()\n",
    "sns.barplot(data=insurance_data, x='sex', y='charges')"
   ]
  },
  {
   "cell_type": "code",
   "execution_count": 9,
   "id": "63d28c52",
   "metadata": {
    "execution": {
     "iopub.execute_input": "2024-04-13T10:31:40.669583Z",
     "iopub.status.busy": "2024-04-13T10:31:40.669170Z",
     "iopub.status.idle": "2024-04-13T10:31:41.004171Z",
     "shell.execute_reply": "2024-04-13T10:31:41.002941Z"
    },
    "papermill": {
     "duration": 0.348536,
     "end_time": "2024-04-13T10:31:41.006940",
     "exception": false,
     "start_time": "2024-04-13T10:31:40.658404",
     "status": "completed"
    },
    "tags": []
   },
   "outputs": [
    {
     "data": {
      "text/plain": [
       "<Axes: xlabel='charges', ylabel='age'>"
      ]
     },
     "execution_count": 9,
     "metadata": {},
     "output_type": "execute_result"
    },
    {
     "data": {
      "image/png": "[encoded data removed]",
      "text/plain": [
       "<Figure size 640x480 with 1 Axes>"
      ]
     },
     "metadata": {},
     "output_type": "display_data"
    }
   ],
   "source": [
    "plt.figure()\n",
    "sns.scatterplot(data=insurance_data.sort_values('age'), x='charges', y='age')"
   ]
  },
  {
   "cell_type": "code",
   "execution_count": 10,
   "id": "95182add",
   "metadata": {
    "execution": {
     "iopub.execute_input": "2024-04-13T10:31:41.030130Z",
     "iopub.status.busy": "2024-04-13T10:31:41.029583Z",
     "iopub.status.idle": "2024-04-13T10:31:41.507325Z",
     "shell.execute_reply": "2024-04-13T10:31:41.505910Z"
    },
    "papermill": {
     "duration": 0.493188,
     "end_time": "2024-04-13T10:31:41.510126",
     "exception": false,
     "start_time": "2024-04-13T10:31:41.016938",
     "status": "completed"
    },
    "tags": []
   },
   "outputs": [
    {
     "data": {
      "text/plain": [
       "<Axes: xlabel='charges', ylabel='region'>"
      ]
     },
     "execution_count": 10,
     "metadata": {},
     "output_type": "execute_result"
    },
    {
     "data": {
      "image/png": "[encoded data removed]",
      "text/plain": [
       "<Figure size 640x480 with 1 Axes>"
      ]
     },
     "metadata": {},
     "output_type": "display_data"
    }
   ],
   "source": [
    "plt.figure()\n",
    "sns.barplot(data=insurance_data, x='charges', y='region')"
   ]
  },
  {
   "cell_type": "markdown",
   "id": "73e6872a",
   "metadata": {
    "papermill": {
     "duration": 0.010894,
     "end_time": "2024-04-13T10:31:41.532148",
     "exception": false,
     "start_time": "2024-04-13T10:31:41.521254",
     "status": "completed"
    },
    "tags": []
   },
   "source": [
    "# Split data and encode values"
   ]
  },
  {
   "cell_type": "code",
   "execution_count": 11,
   "id": "ce03ff6b",
   "metadata": {
    "execution": {
     "iopub.execute_input": "2024-04-13T10:31:41.555178Z",
     "iopub.status.busy": "2024-04-13T10:31:41.554739Z",
     "iopub.status.idle": "2024-04-13T10:31:41.577918Z",
     "shell.execute_reply": "2024-04-13T10:31:41.576608Z"
    },
    "papermill": {
     "duration": 0.038399,
     "end_time": "2024-04-13T10:31:41.581083",
     "exception": false,
     "start_time": "2024-04-13T10:31:41.542684",
     "status": "completed"
    },
    "tags": []
   },
   "outputs": [],
   "source": [
    "X = insurance_data.drop(['charges'], axis=1)\n",
    "y = insurance_data['charges']\n",
    "\n",
    "encoder = OrdinalEncoder()\n",
    "X_encoded = pd.DataFrame(encoder.fit_transform(X))\n",
    "X_encoded.columns = X.columns\n",
    "\n",
    "X_train, X_test, y_train, y_test = train_test_split(X_encoded, y, train_size=0.8, test_size=0.2, random_state=1)"
   ]
  },
  {
   "cell_type": "markdown",
   "id": "2b00fef1",
   "metadata": {
    "papermill": {
     "duration": 0.012959,
     "end_time": "2024-04-13T10:31:41.604536",
     "exception": false,
     "start_time": "2024-04-13T10:31:41.591577",
     "status": "completed"
    },
    "tags": []
   },
   "source": [
    "# Train model using different alghorithms and evaluate them"
   ]
  },
  {
   "cell_type": "markdown",
   "id": "4b4887b2",
   "metadata": {
    "papermill": {
     "duration": 0.01224,
     "end_time": "2024-04-13T10:31:41.632773",
     "exception": false,
     "start_time": "2024-04-13T10:31:41.620533",
     "status": "completed"
    },
    "tags": []
   },
   "source": []
  },
  {
   "cell_type": "code",
   "execution_count": 12,
   "id": "a342546c",
   "metadata": {
    "execution": {
     "iopub.execute_input": "2024-04-13T10:31:41.656073Z",
     "iopub.status.busy": "2024-04-13T10:31:41.655584Z",
     "iopub.status.idle": "2024-04-13T10:31:41.662361Z",
     "shell.execute_reply": "2024-04-13T10:31:41.661018Z"
    },
    "papermill": {
     "duration": 0.021509,
     "end_time": "2024-04-13T10:31:41.665177",
     "exception": false,
     "start_time": "2024-04-13T10:31:41.643668",
     "status": "completed"
    },
    "tags": []
   },
   "outputs": [],
   "source": [
    "def get_score(X_train, X_test, y_train, y_test, RegressionAlgo):\n",
    "    model = RegressionAlgo()\n",
    "    model.fit(X_train, y_train)\n",
    "    preds = model.predict(X_test)\n",
    "    print(f'Score is {r2_score(y_test, preds)}')"
   ]
  },
  {
   "cell_type": "code",
   "execution_count": 14,
   "id": "3ff42316",
   "metadata": {
    "execution": {
     "iopub.execute_input": "2024-04-13T10:31:41.691064Z",
     "iopub.status.busy": "2024-04-13T10:31:41.690607Z",
     "iopub.status.idle": "2024-04-13T10:31:42.513892Z",
     "shell.execute_reply": "2024-04-13T10:31:42.512071Z"
    },
    "papermill": {
     "duration": 0.838041,
     "end_time": "2024-04-13T10:31:42.516459",
     "exception": false,
     "start_time": "2024-04-13T10:31:41.678418",
     "status": "completed"
    },
    "tags": []
   },
   "outputs": [
    {
     "name": "stdout",
     "output_type": "stream",
     "text": [
      "Score is 0.056208253829048815\n"
     ]
    },
    {
     "name": "stdout",
     "output_type": "stream",
     "text": [
      "Score is 0.9241054785902728\n",
      "Score is 0.6812032853387171\n"
     ]
    }
   ],
   "source": [
    "get_score(X_train, X_test, y_train, y_test, KNR)\n",
    "get_score(X_train, X_test, y_train, y_test, RFR)\n",
    "get_score(X_train, X_test, y_train, y_test, LR)"
   ]
  }
 ],
 "metadata": {
  "kaggle": {
   "accelerator": "none",
   "dataSources": [
    {
     "datasetId": 4600225,
     "sourceId": 7845677,
     "sourceType": "datasetVersion"
    }
   ],
   "dockerImageVersionId": 30684,
   "isGpuEnabled": false,
   "isInternetEnabled": true,
   "language": "python",
   "sourceType": "notebook"
  },
  "kernelspec": {
   "display_name": "Python 3",
   "language": "python",
   "name": "python3"
  },
  "language_info": {
   "codemirror_mode": {
    "name": "ipython",
    "version": 3
   },
   "file_extension": ".py",
   "mimetype": "text/x-python",
   "name": "python",
   "nbconvert_exporter": "python",
   "pygments_lexer": "ipython3",
   "version": "3.11.7"
  },
  "papermill": {
   "default_parameters": {},
   "duration": 10.531397,
   "end_time": "2024-04-13T10:31:43.297722",
   "environment_variables": {},
   "exception": null,
   "input_path": "__notebook__.ipynb",
   "output_path": "__notebook__.ipynb",
   "parameters": {},
   "start_time": "2024-04-13T10:31:32.766325",
   "version": "2.5.0"
  }
 },
 "nbformat": 4,
 "nbformat_minor": 5
}
